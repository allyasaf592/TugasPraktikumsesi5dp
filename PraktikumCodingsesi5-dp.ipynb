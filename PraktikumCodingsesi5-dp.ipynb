{
 "cells": [
  {
   "cell_type": "markdown",
   "id": "56ed3244",
   "metadata": {},
   "source": [
    "<h3>Latihan</h3>\n",
    "<ol>\n",
    "    <li>Buatlah variabel dengan nama hobi, yang digunakan untuk menampung input dari user dengan label \"Hobi kamu apa? : \" , kemudian Cetaklah dengan label <b>Hobi kamu : {hobi}</b></li>\n",
    "    <li>Buatlah variabel nama, yang digunakan untuk menampung input dari user dengan label \"Siapa nama kamu? : \" , misal user mengisikan nama \"Romi\" maka akan tampil output <b>Nama kamu berawalan huruf R</b></li>\n",
    "</ol>"
   ]
  },
  {
   "cell_type": "code",
   "execution_count": 1,
   "id": "ed9dabf0",
   "metadata": {},
   "outputs": [
    {
     "name": "stdout",
     "output_type": "stream",
     "text": [
      "Jawaban No.1\n",
      "hobi kamu apa? :Bermain Panahan\n",
      "Hobi kamu : Bermain Panahan\n"
     ]
    }
   ],
   "source": [
    "print(\"Jawaban No.1\")\n",
    "hobi = input('hobi kamu apa? :')\n",
    "print (f\"Hobi kamu : {hobi}\")"
   ]
  },
  {
   "cell_type": "code",
   "execution_count": 2,
   "id": "a7b08d95",
   "metadata": {},
   "outputs": [
    {
     "name": "stdout",
     "output_type": "stream",
     "text": [
      "\n",
      "Jawaban No. 2\n",
      "Siapa nama kamu :Allya Saffira\n",
      "Nama kamu berawalan huruf A\n"
     ]
    }
   ],
   "source": [
    "print(\"\\nJawaban No. 2\")\n",
    "nama = input('Siapa nama kamu :')\n",
    "print(f\"Nama kamu berawalan huruf {nama[0]}\")"
   ]
  },
  {
   "cell_type": "markdown",
   "id": "e5731349",
   "metadata": {},
   "source": [
    "<h3>Latihan</h3>\n",
    "\n",
    "<ol>\n",
    "    <li>Buatlah program tebak hasil dari perkalian dari 2 angka dari 0 sampai 100, jika user menjawab benar maka tampil <b>Jawaban anda True</b> dan jika salah, maka akan tampil <b>Jawaban anda False</b></li>\n",
    "</ol>"
   ]
  },
  {
   "cell_type": "code",
   "execution_count": 3,
   "id": "8d0ddce5",
   "metadata": {},
   "outputs": [
    {
     "name": "stdout",
     "output_type": "stream",
     "text": [
      "Tebak Perkalian 2 Angka\n",
      "Berapakah hasil perkalian 68 dan 5 : 340\n",
      "Jawaban anda True\n"
     ]
    }
   ],
   "source": [
    "print(\"Tebak Perkalian 2 Angka\")\n",
    "\n",
    "from random import randint\n",
    "angka_1 = randint(0,100)\n",
    "angka_2 = randint(0,100)\n",
    "\n",
    "hasil = int(input(f\"Berapakah hasil perkalian {angka_1} dan {angka_2} : \"))\n",
    "print(f\"Jawaban anda {hasil==angka_1 * angka_2}\")"
   ]
  },
  {
   "cell_type": "markdown",
   "id": "49430c53",
   "metadata": {},
   "source": [
    "<h3>Latihan</h3>\n",
    "Carilah kode CLDR Names dan unicode dari emoji, dan cetaklah menggunakan fungsi print"
   ]
  },
  {
   "cell_type": "code",
   "execution_count": 4,
   "id": "b766796a",
   "metadata": {},
   "outputs": [
    {
     "name": "stdout",
     "output_type": "stream",
     "text": [
      "Names : smiling face with open hands\n",
      "Unicode : U0001f917 \n",
      "Hasil : 🤗 \n",
      "\n",
      "Names : grinning face with smiling eyes \n",
      "Unicode : U0001f604 \n",
      "Hasil : 😄 \n"
     ]
    }
   ],
   "source": [
    "print (\"Names : smiling face with open hands\" )\n",
    "print (\"Unicode : U0001f917 \")\n",
    "print (\"Hasil : \\U0001f917 \")\n",
    "\n",
    "print (\"\\nNames : grinning face with smiling eyes \")\n",
    "print (\"Unicode : U0001f604 \")\n",
    "print (\"Hasil : \\U0001f604 \")\n"
   ]
  },
  {
   "cell_type": "markdown",
   "id": "01ddd1d8",
   "metadata": {},
   "source": [
    "<h3>Latihan</h3>\n",
    "Jika terdapat sebuah string <b>Belajar Pemrograman Python</b> Maka tampilkan <b>output</b> berikut ini menggunakan fungsi <b>print</b><br>\n",
    "<ol>\n",
    "    <li>Belajar</li>\n",
    "    <li>ajar</li>\n",
    "    <li>Pemrograman</li>\n",
    "    <li>gram</li>\n",
    "    <li>Python</li>\n",
    "    <li>Py</li>\n",
    "    <li>gram Python</li>\n",
    "    <li>Pemrograman Python</li>\n",
    "</ol>\n"
   ]
  },
  {
   "cell_type": "code",
   "execution_count": 5,
   "id": "caf042c3",
   "metadata": {},
   "outputs": [
    {
     "name": "stdout",
     "output_type": "stream",
     "text": [
      "1.Belajar\n",
      "2.ajar\n",
      "3.Pemrograman\n",
      "4.gram\n",
      "5.Python\n",
      "6.Py\n",
      "7.gram Python\n",
      "8.Pemrograman Python\n"
     ]
    }
   ],
   "source": [
    "kalimat = \"Belajar Pemrograman Python\"\n",
    "print(f'1.{kalimat[0:7]}') \n",
    "print(f'2.{kalimat[3:7]}') \n",
    "print(f'3.{kalimat[8:19]}') \n",
    "print(f'4.{kalimat[13:17]}') \n",
    "print(f'5.{kalimat[20:26]}')\n",
    "print(f'6.{kalimat[20:22]}') \n",
    "print(f'7.{kalimat[13:17]} {kalimat[20:26]}') \n",
    "print(f'8.{kalimat[8:19]} {kalimat[20:26]}') "
   ]
  },
  {
   "cell_type": "markdown",
   "id": "6d125478",
   "metadata": {},
   "source": [
    "<h1>Latihan</h1>\n",
    "1. Buatlah program untuk mengecek bahwa sebuah email termasuk valid atau tidak. Valid diartikan <b>True</b> dan tidak valid diartikan <b>False</b>\n",
    "Berikut contoh <i>test case</i> yang bisa digunakan sebagai acuan \n",
    "<ol>\n",
    "    <li>alunsujjada@gmailcom -> False</li>\n",
    "    <li>alunsujjada@gmail.com -> True</li>\n",
    "    <li>alun.sujjada@gmail.com -> False</li>\n",
    "    <li>alunsujjada.gmail.com -> False</li>\n",
    "    <li>alun.sujjada@gmailcom -> False</li>\n",
    "</ol>"
   ]
  },
  {
   "cell_type": "code",
   "execution_count": 7,
   "id": "892f3b15",
   "metadata": {},
   "outputs": [
    {
     "name": "stdout",
     "output_type": "stream",
     "text": [
      "1.alunsujjada@gmailcom\n",
      "False\n",
      "2.alunsujjada@gmail.com\n",
      "True\n",
      "3.alun.sujjada@gmail.com\n",
      "False\n",
      "4.alunsujjada.gmail.com\n",
      "False\n",
      "5.alun.sujjada@gmailcom\n",
      "False\n"
     ]
    }
   ],
   "source": [
    "email = input (\"1.\")\n",
    "if (email == \"alunsujjada@gmail.com\"): \n",
    "  print (True)\n",
    "else:\n",
    "  print(False)\n",
    "email = input (\"2.\")\n",
    "if (email == \"alunsujjada@gmail.com\"):\n",
    "  print (True)\n",
    "else: \n",
    "  print(False)  \n",
    "email = input (\"3.\")\n",
    "if (email == \"alunsujjada@gmail.com\"):\n",
    "  print (True)\n",
    "else: \n",
    "  print(False)\n",
    "email = input (\"4.\")\n",
    "if (email == \"alunsujjada@gmail.com\"):\n",
    "  print (True)\n",
    "else: \n",
    "  print(False)\n",
    "email = input (\"5.\")\n",
    "if (email == \"alunsujjada@gmail.com\"):\n",
    "  print (True)\n",
    "else: \n",
    "  print(False)  "
   ]
  },
  {
   "cell_type": "code",
   "execution_count": null,
   "id": "8ce4643e",
   "metadata": {},
   "outputs": [],
   "source": []
  }
 ],
 "metadata": {
  "kernelspec": {
   "display_name": "Python 3 (ipykernel)",
   "language": "python",
   "name": "python3"
  },
  "language_info": {
   "codemirror_mode": {
    "name": "ipython",
    "version": 3
   },
   "file_extension": ".py",
   "mimetype": "text/x-python",
   "name": "python",
   "nbconvert_exporter": "python",
   "pygments_lexer": "ipython3",
   "version": "3.9.12"
  }
 },
 "nbformat": 4,
 "nbformat_minor": 5
}
